{
 "cells": [
  {
   "cell_type": "code",
   "execution_count": 1,
   "id": "0c08e3bd-1483-4018-a617-9d12cf9ccc23",
   "metadata": {},
   "outputs": [],
   "source": [
    "import pandas as pd"
   ]
  },
  {
   "cell_type": "code",
   "execution_count": 2,
   "id": "9dc6c5e9-bd44-4ede-b325-2afa04f9366d",
   "metadata": {},
   "outputs": [],
   "source": [
    "P1= [1,2,3,4,5]"
   ]
  },
  {
   "cell_type": "code",
   "execution_count": 3,
   "id": "84ed743e-f73e-47fd-b24b-c167eef1b2da",
   "metadata": {},
   "outputs": [],
   "source": [
    "s1 = pd.Series(P1)"
   ]
  },
  {
   "cell_type": "code",
   "execution_count": 4,
   "id": "542b4f13-28a8-484d-8c56-36338fb0d86c",
   "metadata": {},
   "outputs": [
    {
     "name": "stdout",
     "output_type": "stream",
     "text": [
      "0    1\n",
      "1    2\n",
      "2    3\n",
      "3    4\n",
      "4    5\n",
      "dtype: int64\n"
     ]
    }
   ],
   "source": [
    "print(s1)"
   ]
  },
  {
   "cell_type": "code",
   "execution_count": null,
   "id": "5383837a-26a0-40df-8574-4a8f5c3ec522",
   "metadata": {},
   "outputs": [],
   "source": []
  }
 ],
 "metadata": {
  "kernelspec": {
   "display_name": "Python 3 (ipykernel)",
   "language": "python",
   "name": "python3"
  },
  "language_info": {
   "codemirror_mode": {
    "name": "ipython",
    "version": 3
   },
   "file_extension": ".py",
   "mimetype": "text/x-python",
   "name": "python",
   "nbconvert_exporter": "python",
   "pygments_lexer": "ipython3",
   "version": "3.10.12"
  }
 },
 "nbformat": 4,
 "nbformat_minor": 5
}
