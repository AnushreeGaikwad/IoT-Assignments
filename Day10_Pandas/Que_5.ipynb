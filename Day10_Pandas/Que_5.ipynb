{
 "cells": [
  {
   "cell_type": "code",
   "execution_count": 1,
   "id": "fbfb2a63-4c3a-457e-b21e-94cffcc7be84",
   "metadata": {},
   "outputs": [],
   "source": [
    "import pandas as pd\n",
    "import numpy as np"
   ]
  },
  {
   "cell_type": "code",
   "execution_count": 2,
   "id": "3e9e77fa-495d-4bb2-a2c9-ff0ce6f459dc",
   "metadata": {},
   "outputs": [
    {
     "name": "stdout",
     "output_type": "stream",
     "text": [
      "Numpy Array:\n",
      "[11 12 13 14 15]\n",
      "New Converted series:\n",
      "0    11\n",
      "1    12\n",
      "2    13\n",
      "3    14\n",
      "4    15\n",
      "dtype: int64\n"
     ]
    }
   ],
   "source": [
    "np_array = np.array([11,12,13,14,15])\n",
    "print(\"Numpy Array:\")\n",
    "print(np_array)\n",
    "np_array1 = pd.Series(np_array)\n",
    "print(\"New Converted series:\")\n",
    "print(np_array1)"
   ]
  },
  {
   "cell_type": "code",
   "execution_count": null,
   "id": "e7b3d02c-c26b-453e-8658-7afb7fd0333e",
   "metadata": {},
   "outputs": [],
   "source": []
  }
 ],
 "metadata": {
  "kernelspec": {
   "display_name": "Python 3 (ipykernel)",
   "language": "python",
   "name": "python3"
  },
  "language_info": {
   "codemirror_mode": {
    "name": "ipython",
    "version": 3
   },
   "file_extension": ".py",
   "mimetype": "text/x-python",
   "name": "python",
   "nbconvert_exporter": "python",
   "pygments_lexer": "ipython3",
   "version": "3.10.12"
  }
 },
 "nbformat": 4,
 "nbformat_minor": 5
}
