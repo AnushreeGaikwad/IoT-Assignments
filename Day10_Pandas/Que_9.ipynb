{
 "cells": [
  {
   "cell_type": "code",
   "execution_count": 119,
   "id": "5a91d52c-5a64-40c1-9f3f-8e6a563e771d",
   "metadata": {},
   "outputs": [],
   "source": [
    "Empids = [100, 101, 102, 103, 104, 105, 106, 107, 108, 109]\n",
    "names = ['Ram', 'Krishna', 'Radha', 'Rani', 'Pintu', 'Lakshmi', 'Sita', 'Laxman', 'Rita', 'Amu']"
   ]
  },
  {
   "cell_type": "code",
   "execution_count": 120,
   "id": "8b0bcd60-a75a-4913-bada-7bbf16bd1d4f",
   "metadata": {},
   "outputs": [],
   "source": [
    "import pandas as pd"
   ]
  },
  {
   "cell_type": "code",
   "execution_count": 130,
   "id": "8340d50b-0862-48ea-ae58-18ccf090640f",
   "metadata": {},
   "outputs": [],
   "source": [
    "series = pd.Series( names, index = empids)"
   ]
  },
  {
   "cell_type": "code",
   "execution_count": 122,
   "id": "1f3a4800-6a95-4bef-9857-8d73bc70fd79",
   "metadata": {},
   "outputs": [
    {
     "name": "stdout",
     "output_type": "stream",
     "text": [
      "           0\n",
      "100      Ram\n",
      "101  Krishna\n",
      "102    Radha\n",
      "103     Rani\n",
      "104    Pintu\n",
      "105  Lakshmi\n",
      "106     Sita\n",
      "107   Laxman\n",
      "108     Rita\n",
      "109      Amu\n"
     ]
    }
   ],
   "source": [
    "dataframe = pd.DataFrame(series)\n",
    "print(dataframe)"
   ]
  },
  {
   "cell_type": "code",
   "execution_count": 123,
   "id": "ca33d678-72bd-46fd-b595-3fab19a7a335",
   "metadata": {},
   "outputs": [
    {
     "name": "stdout",
     "output_type": "stream",
     "text": [
      "<class 'pandas.core.series.Series'>\n"
     ]
    }
   ],
   "source": [
    "print(type(series))"
   ]
  },
  {
   "cell_type": "code",
   "execution_count": 124,
   "id": "efd347f0-dbc4-4fa9-9866-52c86624e5b2",
   "metadata": {},
   "outputs": [
    {
     "name": "stdout",
     "output_type": "stream",
     "text": [
      "           0\n",
      "100      Ram\n",
      "101  Krishna\n",
      "102    Radha\n",
      "103     Rani\n",
      "104    Pintu\n"
     ]
    }
   ],
   "source": [
    "print(dataframe.head())"
   ]
  },
  {
   "cell_type": "code",
   "execution_count": 125,
   "id": "b9c78a58-6912-4416-8b98-46b96160ebb9",
   "metadata": {},
   "outputs": [
    {
     "name": "stdout",
     "output_type": "stream",
     "text": [
      "           0\n",
      "105  Lakshmi\n",
      "106     Sita\n",
      "107   Laxman\n",
      "108     Rita\n",
      "109      Amu\n"
     ]
    }
   ],
   "source": [
    "print(dataframe.tail())"
   ]
  },
  {
   "cell_type": "code",
   "execution_count": 126,
   "id": "0f82083a-f3b0-4ac9-a8b9-cdbf8c995997",
   "metadata": {},
   "outputs": [
    {
     "name": "stdout",
     "output_type": "stream",
     "text": [
      "           0\n",
      "100      Ram\n",
      "101  Krishna\n",
      "        0\n",
      "108  Rita\n",
      "109   Amu\n"
     ]
    }
   ],
   "source": [
    "print(dataframe.iloc[:2, :])\n",
    "print(dataframe.iloc[-2:, :])"
   ]
  },
  {
   "cell_type": "code",
   "execution_count": 127,
   "id": "ee5f867a-13a0-4a45-b074-6447b06dd3de",
   "metadata": {},
   "outputs": [
    {
     "name": "stdout",
     "output_type": "stream",
     "text": [
      "Pintu\n"
     ]
    }
   ],
   "source": [
    "print(dataframe.iloc[4,0])"
   ]
  },
  {
   "cell_type": "code",
   "execution_count": 128,
   "id": "d906f199-45a3-4743-94d7-bf76af817b4f",
   "metadata": {},
   "outputs": [
    {
     "name": "stdout",
     "output_type": "stream",
     "text": [
      "0    Rani\n",
      "Name: 103, dtype: object\n"
     ]
    }
   ],
   "source": [
    "print(dataframe.iloc[3,:])"
   ]
  },
  {
   "cell_type": "code",
   "execution_count": 129,
   "id": "8758574b-b327-45a4-9649-662303b9739c",
   "metadata": {},
   "outputs": [],
   "source": [
    "my_file = dataframe.to_csv('MyRecord.csv')"
   ]
  }
 ],
 "metadata": {
  "kernelspec": {
   "display_name": "Python 3 (ipykernel)",
   "language": "python",
   "name": "python3"
  },
  "language_info": {
   "codemirror_mode": {
    "name": "ipython",
    "version": 3
   },
   "file_extension": ".py",
   "mimetype": "text/x-python",
   "name": "python",
   "nbconvert_exporter": "python",
   "pygments_lexer": "ipython3",
   "version": "3.11.4"
  }
 },
 "nbformat": 4,
 "nbformat_minor": 5
}
