{
 "cells": [
  {
   "cell_type": "code",
   "execution_count": 1,
   "id": "b693f307-2970-458a-a47d-c239aca83c13",
   "metadata": {},
   "outputs": [],
   "source": [
    "import pandas as pd"
   ]
  },
  {
   "cell_type": "code",
   "execution_count": 2,
   "id": "dbbd4350-7262-4ad3-839e-7db7f0b108de",
   "metadata": {},
   "outputs": [],
   "source": [
    "def function1():\n",
    "    p1 = ({\"name\":\"P1\",\"age\":25,\"id\":1234})\n",
    "    p2 = ({\"name\":\"P2\",\"age\":35,\"id\":456})\n",
    "    p3 = ({\"name\":\"P3\",\"age\":20,\"id\":789})\n",
    "    \n",
    "    s1 = pd.Series(p1)\n",
    "    s2 = pd.Series(p2)\n",
    "    s3 = pd.Series(p3)\n",
    "    \n",
    "    df = pd.DataFrame([s1,s2,s3])\n",
    "\n",
    "    print(s1)\n",
    "    print(s2)\n",
    "    print(s3)\n",
    "    print(df)"
   ]
  },
  {
   "cell_type": "code",
   "execution_count": 3,
   "id": "43860c25-7dfe-4dc5-9bfb-a2b9a31506a1",
   "metadata": {},
   "outputs": [
    {
     "name": "stdout",
     "output_type": "stream",
     "text": [
      "name      P1\n",
      "age       25\n",
      "id      1234\n",
      "dtype: object\n",
      "name     P2\n",
      "age      35\n",
      "id      456\n",
      "dtype: object\n",
      "name     P3\n",
      "age      20\n",
      "id      789\n",
      "dtype: object\n",
      "  name  age    id\n",
      "0   P1   25  1234\n",
      "1   P2   35   456\n",
      "2   P3   20   789\n"
     ]
    }
   ],
   "source": [
    "function1()"
   ]
  },
  {
   "cell_type": "code",
   "execution_count": null,
   "id": "8f5db2fa-91e1-4bc1-8cff-a16ac840c5a8",
   "metadata": {},
   "outputs": [],
   "source": []
  }
 ],
 "metadata": {
  "kernelspec": {
   "display_name": "Python 3 (ipykernel)",
   "language": "python",
   "name": "python3"
  },
  "language_info": {
   "codemirror_mode": {
    "name": "ipython",
    "version": 3
   },
   "file_extension": ".py",
   "mimetype": "text/x-python",
   "name": "python",
   "nbconvert_exporter": "python",
   "pygments_lexer": "ipython3",
   "version": "3.10.12"
  }
 },
 "nbformat": 4,
 "nbformat_minor": 5
}
