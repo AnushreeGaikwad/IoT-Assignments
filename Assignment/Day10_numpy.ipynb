{
 "cells": [
  {
   "cell_type": "code",
   "execution_count": 5,
   "id": "4ded36c3-ed60-4ec5-8237-016d090e4768",
   "metadata": {},
   "outputs": [],
   "source": [
    "import numpy as np"
   ]
  },
  {
   "cell_type": "code",
   "execution_count": 10,
   "id": "7dfddd27-cd9e-4a40-bbe9-1ca231591004",
   "metadata": {},
   "outputs": [],
   "source": [
    "def function3():\n",
    "    arr = np.array([1, 7, 13, 105])\n",
    "    print(arr)\n",
    "    print(f\"the size of memory occupied by array = {arr.nbytes}\")\n",
    "    \n",
    "    "
   ]
  },
  {
   "cell_type": "code",
   "execution_count": 11,
   "id": "b78f87cb-ba41-4142-8ecc-acf0be124f6c",
   "metadata": {},
   "outputs": [
    {
     "name": "stdout",
     "output_type": "stream",
     "text": [
      "[  1   7  13 105]\n",
      "the size of memory occupied by array = 32\n"
     ]
    }
   ],
   "source": [
    "function3()"
   ]
  },
  {
   "cell_type": "code",
   "execution_count": 12,
   "id": "539d6a0e-cb31-4cbd-b4cb-eaa37f19137e",
   "metadata": {},
   "outputs": [],
   "source": [
    "import numpy as np"
   ]
  },
  {
   "cell_type": "code",
   "execution_count": 18,
   "id": "33da7433-7734-461d-a654-d19a8e6ba509",
   "metadata": {},
   "outputs": [],
   "source": [
    "arr4 = np.zeros(10)"
   ]
  },
  {
   "cell_type": "code",
   "execution_count": 19,
   "id": "319f169c-705d-4c20-be96-299a5e19d825",
   "metadata": {},
   "outputs": [
    {
     "name": "stdout",
     "output_type": "stream",
     "text": [
      "[0. 0. 0. 0. 0. 0. 0. 0. 0. 0.]\n"
     ]
    }
   ],
   "source": [
    "print(arr4)"
   ]
  },
  {
   "cell_type": "code",
   "execution_count": 23,
   "id": "17c50da9-f34b-4303-9fc8-3abfe8791ccc",
   "metadata": {},
   "outputs": [],
   "source": [
    "arr4 = np.ones(10)"
   ]
  },
  {
   "cell_type": "code",
   "execution_count": 24,
   "id": "57b1c9bd-a7a0-4550-8ee4-552e1134195c",
   "metadata": {},
   "outputs": [
    {
     "name": "stdout",
     "output_type": "stream",
     "text": [
      "[1. 1. 1. 1. 1. 1. 1. 1. 1. 1.]\n"
     ]
    }
   ],
   "source": [
    "print(arr4)"
   ]
  },
  {
   "cell_type": "code",
   "execution_count": 25,
   "id": "967eb593-a35b-4931-9f5b-b50426c75121",
   "metadata": {},
   "outputs": [],
   "source": [
    "arr4 = np.ones(10)*5"
   ]
  },
  {
   "cell_type": "code",
   "execution_count": 26,
   "id": "14a20553-0d96-4316-b5dc-accf8ef06e77",
   "metadata": {},
   "outputs": [
    {
     "name": "stdout",
     "output_type": "stream",
     "text": [
      "[5. 5. 5. 5. 5. 5. 5. 5. 5. 5.]\n"
     ]
    }
   ],
   "source": [
    "print(arr4)"
   ]
  },
  {
   "cell_type": "code",
   "execution_count": 27,
   "id": "bce0e851-9b91-4cc8-bc23-ec3b4a0f3773",
   "metadata": {},
   "outputs": [
    {
     "name": "stdout",
     "output_type": "stream",
     "text": [
      "[10. 10. 10. 10. 10. 10. 10. 10. 10. 10.]\n"
     ]
    }
   ],
   "source": [
    "arr4 = np.ones(10)*10\n",
    "print(arr4)"
   ]
  },
  {
   "cell_type": "code",
   "execution_count": 28,
   "id": "58c46b1d-cebb-4833-8515-1c38827ab5b5",
   "metadata": {},
   "outputs": [
    {
     "name": "stdout",
     "output_type": "stream",
     "text": [
      "[20. 20. 20. 20. 20. 20. 20. 20. 20. 20.]\n"
     ]
    }
   ],
   "source": [
    "arr4 = np.ones(10)*20\n",
    "print(arr4)"
   ]
  },
  {
   "cell_type": "code",
   "execution_count": 29,
   "id": "e3a639ae-6777-4a20-91a0-0f910270ac34",
   "metadata": {},
   "outputs": [
    {
     "name": "stdout",
     "output_type": "stream",
     "text": [
      "[50. 50. 50. 50. 50. 50. 50. 50. 50. 50.]\n"
     ]
    }
   ],
   "source": [
    "arr4 = np.ones(10)*50\n",
    "print(arr4)"
   ]
  },
  {
   "cell_type": "code",
   "execution_count": 1,
   "id": "01af5942-4fcf-468a-9de7-fba01801da2d",
   "metadata": {},
   "outputs": [
    {
     "name": "stdout",
     "output_type": "stream",
     "text": [
      "[30 31 32 33 34 35 36 37 38 39 40 41 42 43 44 45 46 47 48 49 50 51 52 53\n",
      " 54 55 56 57 58 59 60 61 62 63 64 65 66 67 68 69]\n"
     ]
    }
   ],
   "source": [
    "import numpy as np\n",
    "arr2 = np.arange(30,70,1)\n",
    "print(arr2)"
   ]
  },
  {
   "cell_type": "code",
   "execution_count": 2,
   "id": "ec710de6-d51c-4d18-95d4-3166b34911e7",
   "metadata": {},
   "outputs": [
    {
     "name": "stdout",
     "output_type": "stream",
     "text": [
      "[50 51 52 53 54 55 56 57 58 59 60 61 62 63 64 65 66 67 68 69 70 71 72 73\n",
      " 74 75 76 77 78 79 80 81 82 83 84 85 86 87 88 89 90 91 92 93 94]\n"
     ]
    }
   ],
   "source": [
    "arr2 = np.arange(50,95,1)\n",
    "print(arr2)"
   ]
  },
  {
   "cell_type": "code",
   "execution_count": 3,
   "id": "12cd2f9f-48dc-4c24-be9f-39be67ba0507",
   "metadata": {},
   "outputs": [
    {
     "name": "stdout",
     "output_type": "stream",
     "text": [
      "[20 22 24 26 28 30 32 34 36 38 40 42 44 46 48 50 52 54 56 58 60 62 64 66\n",
      " 68 70 72 74 76 78]\n"
     ]
    }
   ],
   "source": [
    "import numpy as np\n",
    "arr2 = np.arange(20,80,2)\n",
    "print(arr2)"
   ]
  },
  {
   "cell_type": "code",
   "execution_count": 4,
   "id": "a9a573c1-b180-45e0-8e50-67e663a5dea6",
   "metadata": {},
   "outputs": [
    {
     "name": "stdout",
     "output_type": "stream",
     "text": [
      "[19 21 23 25 27 29 31 33 35 37 39 41 43 45 47 49 51 53 55 57 59 61 63 65\n",
      " 67 69 71 73 75 77 79]\n"
     ]
    }
   ],
   "source": [
    "arr2 = np.arange(19,81,2)\n",
    "print(arr2)"
   ]
  },
  {
   "cell_type": "code",
   "execution_count": 5,
   "id": "cd73971c-85e8-44d4-81f4-a04e16054595",
   "metadata": {},
   "outputs": [
    {
     "name": "stdout",
     "output_type": "stream",
     "text": [
      "[15 15 38 39 22 10 35 21 13 38 39 32 26 19 26]\n"
     ]
    }
   ],
   "source": [
    "import numpy as np\n",
    "n4 = np.random.randint(10,40,15)\n",
    "print(n4)"
   ]
  },
  {
   "cell_type": "code",
   "execution_count": 6,
   "id": "5bc6778f-a6ea-4fa2-8ad7-53fd0b9c372f",
   "metadata": {},
   "outputs": [],
   "source": [
    "import numpy as np"
   ]
  },
  {
   "cell_type": "code",
   "execution_count": 8,
   "id": "76172c63-949b-4055-a582-70e8be539a65",
   "metadata": {},
   "outputs": [
    {
     "name": "stdout",
     "output_type": "stream",
     "text": [
      "[44 47 37 37 39 41 44 48 42 38]\n"
     ]
    }
   ],
   "source": [
    "n4 = np.random.randint(30,50,10)\n",
    "print(n4)"
   ]
  },
  {
   "cell_type": "code",
   "execution_count": 9,
   "id": "cbb9be73-a9f5-4f24-adac-db8fb2c318d4",
   "metadata": {},
   "outputs": [
    {
     "name": "stdout",
     "output_type": "stream",
     "text": [
      "[65 68 68 88 53 66 71 54 80 55 89 74 78 59 63 58 67 81 56 64]\n"
     ]
    }
   ],
   "source": [
    "n4 = np.random.randint(50,90,20)\n",
    "print(n4)"
   ]
  },
  {
   "cell_type": "code",
   "execution_count": 10,
   "id": "e410a428-ee0f-4e28-b88e-4f4351a29ae5",
   "metadata": {},
   "outputs": [
    {
     "name": "stdout",
     "output_type": "stream",
     "text": [
      "N1 =[11 22 33 44]\n",
      "N2 =[10 20 30 40]\n",
      "[21 42 63 84]\n",
      "[1 2 3 4]\n",
      "[ 110  440  990 1760]\n",
      "[1.1 1.1 1.1 1.1]\n"
     ]
    }
   ],
   "source": [
    "import numpy as np\n",
    "n1 = np.array([11, 22, 33, 44])\n",
    "n2 = np.array([10, 20, 30, 40])\n",
    "print(f\"N1 ={n1}\")\n",
    "print(f\"N2 ={n2}\")\n",
    "print(n1+n2)\n",
    "print(n1-n2)\n",
    "print(n1*n2)\n",
    "print(n1/n2)"
   ]
  },
  {
   "cell_type": "code",
   "execution_count": 11,
   "id": "fe26e355-5ff9-4fff-91ba-3bbede5e54d9",
   "metadata": {},
   "outputs": [
    {
     "name": "stdout",
     "output_type": "stream",
     "text": [
      "[[10 11 12 13]\n",
      " [14 15 16 17]\n",
      " [18 19 20 21]]\n"
     ]
    }
   ],
   "source": [
    "import numpy as np\n",
    "m=np.arange(10,22).reshape((3,4))\n",
    "print(m)"
   ]
  },
  {
   "cell_type": "code",
   "execution_count": 12,
   "id": "907f463d-6221-450b-be23-6d04a83eaf6a",
   "metadata": {},
   "outputs": [
    {
     "name": "stdout",
     "output_type": "stream",
     "text": [
      "[[1. 0. 0.]\n",
      " [0. 1. 0.]\n",
      " [0. 0. 1.]]\n"
     ]
    }
   ],
   "source": [
    "import numpy as np\n",
    "m= np.eye(3)\n",
    "print(m)"
   ]
  },
  {
   "cell_type": "code",
   "execution_count": 1,
   "id": "4cbfc622-d922-4e85-8ab8-fc1aa1b12d48",
   "metadata": {},
   "outputs": [],
   "source": [
    "#Question 2\n",
    "import numpy as np"
   ]
  },
  {
   "cell_type": "code",
   "execution_count": 2,
   "id": "05775bfa-b350-4d46-9ea4-1ccd086d2b6f",
   "metadata": {},
   "outputs": [
    {
     "name": "stdout",
     "output_type": "stream",
     "text": [
      "[1 4]\n",
      "[1 2]\n"
     ]
    }
   ],
   "source": [
    "n1 = np.array([1, 4])\n",
    "print(n1)\n",
    "n2 = np.array([1, 2])\n",
    "print(n2)"
   ]
  },
  {
   "cell_type": "code",
   "execution_count": 3,
   "id": "3f2bd2e2-c3d3-4c88-9ef4-0b27f9e013a7",
   "metadata": {},
   "outputs": [
    {
     "name": "stdout",
     "output_type": "stream",
     "text": [
      "greater\n",
      "[False  True]\n"
     ]
    }
   ],
   "source": [
    "print(\"greater\")\n",
    "n1 = np.greater(n1, n2)\n",
    "print(n1)"
   ]
  },
  {
   "cell_type": "code",
   "execution_count": 4,
   "id": "afb42c85-e680-4505-a433-c42e7508b64f",
   "metadata": {},
   "outputs": [
    {
     "name": "stdout",
     "output_type": "stream",
     "text": [
      "greater_equal\n",
      "[False False]\n"
     ]
    }
   ],
   "source": [
    "print(\"greater_equal\")\n",
    "n1 = np.greater_equal(n1, n2)\n",
    "print(n1)"
   ]
  },
  {
   "cell_type": "code",
   "execution_count": 5,
   "id": "5ac09cc3-6ad1-41e7-b315-c388aa6745e5",
   "metadata": {},
   "outputs": [
    {
     "name": "stdout",
     "output_type": "stream",
     "text": [
      "less\n",
      "[ True  True]\n"
     ]
    }
   ],
   "source": [
    "print(\"less\")\n",
    "n1 = np.less(n1, n2)\n",
    "print(n1)"
   ]
  },
  {
   "cell_type": "code",
   "execution_count": 6,
   "id": "ee0145b3-b227-46cd-9c18-22fcdbcbc757",
   "metadata": {},
   "outputs": [],
   "source": [
    "#Question 14\n",
    "import numpy as np"
   ]
  },
  {
   "cell_type": "code",
   "execution_count": 8,
   "id": "fa38ddf5-efc5-484b-8ce2-872e49bf1be7",
   "metadata": {},
   "outputs": [
    {
     "name": "stdout",
     "output_type": "stream",
     "text": [
      "[[1 2 3 4]\n",
      " [5 6 7 8]]\n"
     ]
    }
   ],
   "source": [
    "n1 = np.array([[1,2,3,4],[5,6,7,8]])\n",
    "print(n1)"
   ]
  },
  {
   "cell_type": "code",
   "execution_count": 9,
   "id": "161f3e19-f787-4251-b384-ff8081750b2f",
   "metadata": {},
   "outputs": [
    {
     "name": "stdout",
     "output_type": "stream",
     "text": [
      "Rows and Column are = (2, 4)\n"
     ]
    }
   ],
   "source": [
    "print(f\"Rows and Column are = {n1.shape}\")"
   ]
  },
  {
   "cell_type": "code",
   "execution_count": 10,
   "id": "745e8a46-37a7-40aa-b8e5-82eab8fb976f",
   "metadata": {},
   "outputs": [],
   "source": [
    "#Question15\n",
    "import numpy as np"
   ]
  },
  {
   "cell_type": "code",
   "execution_count": 11,
   "id": "68380315-0ea3-41f0-b9fd-48eb6b023443",
   "metadata": {},
   "outputs": [
    {
     "name": "stdout",
     "output_type": "stream",
     "text": [
      "[[1 0 0 0 0]\n",
      " [0 2 0 0 0]\n",
      " [0 0 3 0 0]\n",
      " [0 0 0 4 0]\n",
      " [0 0 0 0 5]]\n"
     ]
    }
   ],
   "source": [
    "n1 = np.diag([1,2,3,4,5])\n",
    "print(n1)"
   ]
  },
  {
   "cell_type": "code",
   "execution_count": 12,
   "id": "3d9eb0a7-72df-46d0-b9b7-1bd9d375c1a7",
   "metadata": {},
   "outputs": [],
   "source": [
    "#Question16\n",
    "import numpy as np "
   ]
  },
  {
   "cell_type": "code",
   "execution_count": 13,
   "id": "e66c6f5e-87bb-452f-bf59-b02e48d08980",
   "metadata": {},
   "outputs": [],
   "source": [
    "n1 = np.random.random((3,3,3))"
   ]
  },
  {
   "cell_type": "code",
   "execution_count": 14,
   "id": "bc0075d0-355d-467a-b04c-282963a752c7",
   "metadata": {},
   "outputs": [
    {
     "name": "stdout",
     "output_type": "stream",
     "text": [
      "[[[0.66167866 0.48303561 0.93772041]\n",
      "  [0.28730158 0.33088738 0.48768108]\n",
      "  [0.10600271 0.51846136 0.75803898]]\n",
      "\n",
      " [[0.81867906 0.5022703  0.50380138]\n",
      "  [0.76408792 0.42752944 0.97104014]\n",
      "  [0.63289898 0.62161231 0.27012098]]\n",
      "\n",
      " [[0.23639918 0.61591892 0.66652164]\n",
      "  [0.45539493 0.60772549 0.55876092]\n",
      "  [0.01758347 0.69306273 0.63577187]]]\n"
     ]
    }
   ],
   "source": [
    "print(n1)"
   ]
  },
  {
   "cell_type": "code",
   "execution_count": 15,
   "id": "78774037-a82d-481e-852e-3bf9f4bba4f7",
   "metadata": {},
   "outputs": [],
   "source": [
    "#Question17\n",
    "import numpy as np"
   ]
  },
  {
   "cell_type": "code",
   "execution_count": 16,
   "id": "a5aa64fe-81b6-4068-9391-661a5be2ed16",
   "metadata": {},
   "outputs": [
    {
     "name": "stdout",
     "output_type": "stream",
     "text": [
      "[2 2 2 2]\n"
     ]
    }
   ],
   "source": [
    "n1 = np.random.randint(2,3,4)\n",
    "print(n1)"
   ]
  },
  {
   "cell_type": "code",
   "execution_count": 17,
   "id": "ec2fd6d4-d852-4633-8042-d3398b546c23",
   "metadata": {},
   "outputs": [],
   "source": [
    "#Question18\n",
    "import numpy as np"
   ]
  },
  {
   "cell_type": "code",
   "execution_count": 18,
   "id": "2f7a5499-1fee-40d6-9dd2-5363608a5ce4",
   "metadata": {},
   "outputs": [
    {
     "name": "stdout",
     "output_type": "stream",
     "text": [
      "[10, 11, 12, 13, 14, 15]\n"
     ]
    }
   ],
   "source": [
    "list = [10,11,12,13,14,15]\n",
    "print(list)"
   ]
  },
  {
   "cell_type": "code",
   "execution_count": 19,
   "id": "c1c525c8-1094-4406-a521-5c164a1f3858",
   "metadata": {},
   "outputs": [
    {
     "name": "stdout",
     "output_type": "stream",
     "text": [
      "[10 11 12 13 14 15]\n"
     ]
    }
   ],
   "source": [
    "n1 = np.array(list)\n",
    "print(n1)"
   ]
  },
  {
   "cell_type": "code",
   "execution_count": 20,
   "id": "d17952ee-8e85-47e7-a7da-7580b9f84a6a",
   "metadata": {},
   "outputs": [],
   "source": [
    "#Question19\n",
    "import numpy as np"
   ]
  },
  {
   "cell_type": "code",
   "execution_count": 21,
   "id": "c89574ae-c048-42a0-81fa-2777b140bbbf",
   "metadata": {},
   "outputs": [
    {
     "name": "stdout",
     "output_type": "stream",
     "text": [
      "[ 2  3  4  5  6  7  8  9 10]\n"
     ]
    }
   ],
   "source": [
    "n1 = np.arange(2,11)\n",
    "print(n1)"
   ]
  },
  {
   "cell_type": "code",
   "execution_count": 22,
   "id": "b6ac4236-830a-4531-b521-34fa5b58f5d1",
   "metadata": {},
   "outputs": [
    {
     "name": "stdout",
     "output_type": "stream",
     "text": [
      "[[ 2  3  4]\n",
      " [ 5  6  7]\n",
      " [ 8  9 10]]\n"
     ]
    }
   ],
   "source": [
    "n1 = n1.reshape([3,3])\n",
    "print(n1)"
   ]
  },
  {
   "cell_type": "code",
   "execution_count": 23,
   "id": "1d7aba8e-bb70-47a5-8eb3-35e697e48ad3",
   "metadata": {},
   "outputs": [],
   "source": [
    "#Question20\n",
    "import numpy as np"
   ]
  },
  {
   "cell_type": "code",
   "execution_count": 24,
   "id": "13c0aa5c-048a-469f-a302-d9a99a3e7f9a",
   "metadata": {},
   "outputs": [
    {
     "name": "stdout",
     "output_type": "stream",
     "text": [
      "[12 13 14 15 16 17 18 19 20 21 22 23 24 25 26 27 28 29 30 31 32 33 34 35\n",
      " 36 37]\n"
     ]
    }
   ],
   "source": [
    "n1 = np.arange(12,38)\n",
    "print(n1)"
   ]
  },
  {
   "cell_type": "code",
   "execution_count": 25,
   "id": "21530661-671a-4621-ac6d-671e8b45dbbc",
   "metadata": {},
   "outputs": [],
   "source": [
    "#Question21\n",
    "import numpy as np"
   ]
  },
  {
   "cell_type": "code",
   "execution_count": 26,
   "id": "0c2816c5-d963-42e5-840f-fcb357970bb5",
   "metadata": {},
   "outputs": [
    {
     "name": "stdout",
     "output_type": "stream",
     "text": [
      "[0 1 2 3 4 5 6 7 8 9]\n"
     ]
    }
   ],
   "source": [
    "n1 = np.arange(0,10)\n",
    "print(n1)"
   ]
  },
  {
   "cell_type": "code",
   "execution_count": 27,
   "id": "19a752c7-efa6-471d-b916-fed13fd3ce34",
   "metadata": {},
   "outputs": [
    {
     "name": "stdout",
     "output_type": "stream",
     "text": [
      "Reverse Array: [9 8 7 6 5 4 3 2 1 0]\n"
     ]
    }
   ],
   "source": [
    "n1 = n1[::-1]\n",
    "print(\"Reverse Array:\",n1)"
   ]
  },
  {
   "cell_type": "code",
   "execution_count": 28,
   "id": "4bf0d1c2-f6d7-4f8b-8e0b-5e1c3d1dc1e6",
   "metadata": {},
   "outputs": [],
   "source": [
    "#Question22\n",
    "import numpy as np"
   ]
  },
  {
   "cell_type": "code",
   "execution_count": 29,
   "id": "64e016f0-877b-40cf-8606-84c8c923ae9e",
   "metadata": {},
   "outputs": [
    {
     "name": "stdout",
     "output_type": "stream",
     "text": [
      "[8, 6, 5, 4, 7]\n"
     ]
    }
   ],
   "source": [
    "n1 = [8,6,5,4,7]\n",
    "print(n1)"
   ]
  },
  {
   "cell_type": "code",
   "execution_count": 30,
   "id": "009e786d-f8d6-45f4-b0d8-0e46c58fe8d5",
   "metadata": {},
   "outputs": [
    {
     "name": "stdout",
     "output_type": "stream",
     "text": [
      "[8. 6. 5. 4. 7.]\n"
     ]
    }
   ],
   "source": [
    "n1 = np.asfarray(n1)\n",
    "print(n1)"
   ]
  },
  {
   "cell_type": "code",
   "execution_count": 31,
   "id": "7ec440d4-1d37-4e4d-8db6-1020fed1d623",
   "metadata": {},
   "outputs": [],
   "source": [
    "#Question23\n",
    "import numpy as np"
   ]
  },
  {
   "cell_type": "code",
   "execution_count": 32,
   "id": "f9330b14-5440-4283-b97d-8c62f9a53a3c",
   "metadata": {},
   "outputs": [
    {
     "name": "stdout",
     "output_type": "stream",
     "text": [
      "[1, 2, 3, 4, 5, 6, 7, 8, 9]\n"
     ]
    }
   ],
   "source": [
    "list = [1,2,3,4,5,6,7,8,9]\n",
    "print(list)"
   ]
  },
  {
   "cell_type": "code",
   "execution_count": 33,
   "id": "b6152eb6-3fd1-4923-9d44-93a933f1b7cb",
   "metadata": {},
   "outputs": [
    {
     "name": "stdout",
     "output_type": "stream",
     "text": [
      "[[1 2 3 4 5 6 7 8 9]]\n"
     ]
    }
   ],
   "source": [
    "arr = np.array([list])\n",
    "print(arr)"
   ]
  },
  {
   "cell_type": "code",
   "execution_count": 34,
   "id": "9fc0765f-86cf-4160-a9aa-c1ef2236fd89",
   "metadata": {},
   "outputs": [],
   "source": [
    "#Question24\n",
    "import numpy as np"
   ]
  },
  {
   "cell_type": "code",
   "execution_count": 35,
   "id": "969d560b-4323-4e7a-854f-a62765566198",
   "metadata": {},
   "outputs": [
    {
     "name": "stdout",
     "output_type": "stream",
     "text": [
      "[0 1 2 3 4 5 6 7 8 9]\n"
     ]
    }
   ],
   "source": [
    "n1 = np.arange(0,10)\n",
    "print(n1)"
   ]
  },
  {
   "cell_type": "code",
   "execution_count": 36,
   "id": "cf245591-3c34-452c-a326-b8cebe481a80",
   "metadata": {},
   "outputs": [
    {
     "name": "stdout",
     "output_type": "stream",
     "text": [
      "Element wise remainder\n",
      "[0 1 2 3 4 0 1 2 3 4]\n"
     ]
    }
   ],
   "source": [
    "print(\"Element wise remainder\")\n",
    "n1 = np.remainder(n1,5)\n",
    "print(n1)"
   ]
  },
  {
   "cell_type": "code",
   "execution_count": 37,
   "id": "0492d201-2fd1-4b02-898e-edb196d655d0",
   "metadata": {},
   "outputs": [],
   "source": [
    "#Question25\n",
    "import numpy as np"
   ]
  },
  {
   "cell_type": "code",
   "execution_count": 38,
   "id": "f19ec811-2b7e-4a37-aa7b-b5e6157322f4",
   "metadata": {},
   "outputs": [
    {
     "name": "stdout",
     "output_type": "stream",
     "text": [
      "[20 21 22 23 24 25 26 27 28 29 30 31 32 33 34 35 36 37 38 39 40 41 42 43\n",
      " 44 45 46 47 48 49]\n"
     ]
    }
   ],
   "source": [
    "n1 = np.arange(20,50)\n",
    "print(n1)"
   ]
  },
  {
   "cell_type": "code",
   "execution_count": 39,
   "id": "8319dd18-861d-4ef3-adfd-a6a72e6ea74b",
   "metadata": {},
   "outputs": [
    {
     "name": "stdout",
     "output_type": "stream",
     "text": [
      "Element wise remainder\n",
      "[2 0 1 2 0 1 2 0 1 2 0 1 2 0 1 2 0 1 2 0 1 2 0 1 2 0 1 2 0 1]\n"
     ]
    }
   ],
   "source": [
    "print(\"Element wise remainder\")\n",
    "n1 = np.remainder(n1,3)\n",
    "print(n1)"
   ]
  },
  {
   "cell_type": "code",
   "execution_count": null,
   "id": "5ac2313f-f2b8-4bbc-bbf8-bbacce0b52de",
   "metadata": {},
   "outputs": [],
   "source": []
  }
 ],
 "metadata": {
  "kernelspec": {
   "display_name": "Python 3 (ipykernel)",
   "language": "python",
   "name": "python3"
  },
  "language_info": {
   "codemirror_mode": {
    "name": "ipython",
    "version": 3
   },
   "file_extension": ".py",
   "mimetype": "text/x-python",
   "name": "python",
   "nbconvert_exporter": "python",
   "pygments_lexer": "ipython3",
   "version": "3.10.12"
  }
 },
 "nbformat": 4,
 "nbformat_minor": 5
}
