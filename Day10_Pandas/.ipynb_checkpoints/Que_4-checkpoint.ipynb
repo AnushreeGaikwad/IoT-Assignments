{
 "cells": [
  {
   "cell_type": "code",
   "execution_count": 1,
   "id": "2adde2fe-7408-43a8-b4c3-e54f99f5e492",
   "metadata": {},
   "outputs": [],
   "source": [
    "import pandas as pd"
   ]
  },
  {
   "cell_type": "code",
   "execution_count": 2,
   "id": "47ad8ff5-33ef-4f7f-a5d1-9e69a240188c",
   "metadata": {},
   "outputs": [
    {
     "name": "stdout",
     "output_type": "stream",
     "text": [
      "Original dictionary:\n",
      "{'a': 100, 'b': 200, 'c': 300, 'd': 400, 'e': 500}\n",
      "New converted series:\n",
      "a    100\n",
      "b    200\n",
      "c    300\n",
      "d    400\n",
      "e    500\n",
      "dtype: int64\n"
     ]
    }
   ],
   "source": [
    "p1 = {'a':100,'b':200,'c':300,'d':400,'e':500}\n",
    "print(\"Original dictionary:\")\n",
    "print(p1)\n",
    "p2 = pd.Series(p1)\n",
    "print(\"New converted series:\")\n",
    "print(p2)"
   ]
  },
  {
   "cell_type": "code",
   "execution_count": null,
   "id": "7ae68de9-f664-4fc2-ac2d-296d70521f1b",
   "metadata": {},
   "outputs": [],
   "source": []
  }
 ],
 "metadata": {
  "kernelspec": {
   "display_name": "Python 3 (ipykernel)",
   "language": "python",
   "name": "python3"
  },
  "language_info": {
   "codemirror_mode": {
    "name": "ipython",
    "version": 3
   },
   "file_extension": ".py",
   "mimetype": "text/x-python",
   "name": "python",
   "nbconvert_exporter": "python",
   "pygments_lexer": "ipython3",
   "version": "3.10.12"
  }
 },
 "nbformat": 4,
 "nbformat_minor": 5
}
